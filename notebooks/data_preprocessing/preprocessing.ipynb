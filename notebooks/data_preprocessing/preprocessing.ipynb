{
 "cells": [
  {
   "cell_type": "markdown",
   "id": "698e82cc",
   "metadata": {},
   "source": [
    "<h2 style=\"text-align:center;\">Data Preprocessing</h2>"
   ]
  },
  {
   "cell_type": "markdown",
   "id": "72119768",
   "metadata": {},
   "source": [
    "<h2>Imports</h2>"
   ]
  },
  {
   "cell_type": "code",
   "execution_count": 1,
   "id": "33bac194",
   "metadata": {},
   "outputs": [],
   "source": [
    "\n",
    "from sklearn.base import BaseEstimator, TransformerMixin\n",
    "from sklearn.pipeline import Pipeline\n",
    "import os\n",
    "import sys\n",
    "import pandas as pd"
   ]
  },
  {
   "cell_type": "markdown",
   "id": "ec831925",
   "metadata": {},
   "source": [
    "<h2>🔃Loading Dataset</h2>"
   ]
  },
  {
   "cell_type": "code",
   "execution_count": 2,
   "id": "0beff5e1",
   "metadata": {},
   "outputs": [
    {
     "name": "stdout",
     "output_type": "stream",
     "text": [
      "Setting project root: c:\\Users\\HP\\Desktop\\Healthcare_test_results_classification-\n"
     ]
    }
   ],
   "source": [
    "\n",
    "# Detect project root by going up until we find the 'src' directory\n",
    "current_dir = os.getcwd()\n",
    "while not os.path.isdir(os.path.join(current_dir, 'src')):\n",
    "    current_dir = os.path.dirname(current_dir)\n",
    "    if current_dir == os.path.dirname(current_dir):  # Reached filesystem root\n",
    "        raise FileNotFoundError(\"Could not find 'src' directory in any parent folders.\")\n",
    "\n",
    "# Set project root and add it to sys.path\n",
    "PROJECT_ROOT = current_dir\n",
    "print(f\"Setting project root: {PROJECT_ROOT}\")\n",
    "os.chdir(PROJECT_ROOT)\n",
    "sys.path.insert(0, PROJECT_ROOT)\n",
    "\n",
    "\n",
    "from src.data import loader, preprocessor\n",
    "from src.visualization import exploration_visualized\n"
   ]
  },
  {
   "cell_type": "code",
   "execution_count": 3,
   "id": "cd31d10b",
   "metadata": {},
   "outputs": [
    {
     "data": {
      "text/html": [
       "<div>\n",
       "<style scoped>\n",
       "    .dataframe tbody tr th:only-of-type {\n",
       "        vertical-align: middle;\n",
       "    }\n",
       "\n",
       "    .dataframe tbody tr th {\n",
       "        vertical-align: top;\n",
       "    }\n",
       "\n",
       "    .dataframe thead th {\n",
       "        text-align: right;\n",
       "    }\n",
       "</style>\n",
       "<table border=\"1\" class=\"dataframe\">\n",
       "  <thead>\n",
       "    <tr style=\"text-align: right;\">\n",
       "      <th></th>\n",
       "      <th>ID</th>\n",
       "      <th>Name</th>\n",
       "      <th>Age</th>\n",
       "      <th>Gender</th>\n",
       "      <th>Blood Type</th>\n",
       "      <th>Medical Condition</th>\n",
       "      <th>Date of Admission</th>\n",
       "      <th>Doctor</th>\n",
       "      <th>Hospital</th>\n",
       "      <th>Insurance Provider</th>\n",
       "      <th>Billing Amount</th>\n",
       "      <th>Room Number</th>\n",
       "      <th>Admission Type</th>\n",
       "      <th>Discharge Date</th>\n",
       "      <th>Medication</th>\n",
       "      <th>Test Results</th>\n",
       "    </tr>\n",
       "  </thead>\n",
       "  <tbody>\n",
       "    <tr>\n",
       "      <th>0</th>\n",
       "      <td>1</td>\n",
       "      <td>Bobby JacksOn</td>\n",
       "      <td>27</td>\n",
       "      <td>Female</td>\n",
       "      <td>O-</td>\n",
       "      <td>Asthma</td>\n",
       "      <td>06/06/2022</td>\n",
       "      <td>Mark Hartman Jr.</td>\n",
       "      <td>Sons and Miller</td>\n",
       "      <td>Cigna</td>\n",
       "      <td>2625.980554</td>\n",
       "      <td>379</td>\n",
       "      <td>Elective</td>\n",
       "      <td>18/08/2022</td>\n",
       "      <td>Ibuprofen</td>\n",
       "      <td>Normal</td>\n",
       "    </tr>\n",
       "    <tr>\n",
       "      <th>1</th>\n",
       "      <td>2</td>\n",
       "      <td>LesLie TErRy</td>\n",
       "      <td>68</td>\n",
       "      <td>Female</td>\n",
       "      <td>O-</td>\n",
       "      <td>Cancer</td>\n",
       "      <td>19/11/2021</td>\n",
       "      <td>Angela Contreras</td>\n",
       "      <td>White-White</td>\n",
       "      <td>Cigna</td>\n",
       "      <td>1471.387317</td>\n",
       "      <td>113</td>\n",
       "      <td>Elective</td>\n",
       "      <td>20/11/2021</td>\n",
       "      <td>Ibuprofen</td>\n",
       "      <td>Inconclusive</td>\n",
       "    </tr>\n",
       "    <tr>\n",
       "      <th>2</th>\n",
       "      <td>3</td>\n",
       "      <td>DaNnY sMitH</td>\n",
       "      <td>21</td>\n",
       "      <td>Female</td>\n",
       "      <td>A+</td>\n",
       "      <td>Hypertension</td>\n",
       "      <td>05/03/2022</td>\n",
       "      <td>David Ruiz</td>\n",
       "      <td>Group Middleton</td>\n",
       "      <td>Medicare</td>\n",
       "      <td>5131.488104</td>\n",
       "      <td>154</td>\n",
       "      <td>Emergency</td>\n",
       "      <td>16/05/2022</td>\n",
       "      <td>Paracetamol</td>\n",
       "      <td>Normal</td>\n",
       "    </tr>\n",
       "    <tr>\n",
       "      <th>3</th>\n",
       "      <td>4</td>\n",
       "      <td>andrEw waTtS</td>\n",
       "      <td>91</td>\n",
       "      <td>Male</td>\n",
       "      <td>AB-</td>\n",
       "      <td>Diabetes</td>\n",
       "      <td>06/04/2020</td>\n",
       "      <td>Jenny Griffith</td>\n",
       "      <td>Morris-Arellano</td>\n",
       "      <td>Blue Cross</td>\n",
       "      <td>8972.793157</td>\n",
       "      <td>293</td>\n",
       "      <td>Urgent</td>\n",
       "      <td>26/04/2020</td>\n",
       "      <td>Ibuprofen</td>\n",
       "      <td>Abnormal</td>\n",
       "    </tr>\n",
       "    <tr>\n",
       "      <th>4</th>\n",
       "      <td>5</td>\n",
       "      <td>adrIENNE bEll</td>\n",
       "      <td>52</td>\n",
       "      <td>Female</td>\n",
       "      <td>A+</td>\n",
       "      <td>Diabetes</td>\n",
       "      <td>31/12/2022</td>\n",
       "      <td>Cynthia Scott</td>\n",
       "      <td>Williams-Davis</td>\n",
       "      <td>Blue Cross</td>\n",
       "      <td>2015.522684</td>\n",
       "      <td>265</td>\n",
       "      <td>Emergency</td>\n",
       "      <td>11/02/2023</td>\n",
       "      <td>Penicillin</td>\n",
       "      <td>Abnormal</td>\n",
       "    </tr>\n",
       "  </tbody>\n",
       "</table>\n",
       "</div>"
      ],
      "text/plain": [
       "   ID           Name  Age  Gender Blood Type Medical Condition  \\\n",
       "0   1  Bobby JacksOn   27  Female         O-            Asthma   \n",
       "1   2   LesLie TErRy   68  Female         O-            Cancer   \n",
       "2   3    DaNnY sMitH   21  Female         A+      Hypertension   \n",
       "3   4   andrEw waTtS   91    Male        AB-          Diabetes   \n",
       "4   5  adrIENNE bEll   52  Female         A+          Diabetes   \n",
       "\n",
       "  Date of Admission            Doctor         Hospital Insurance Provider  \\\n",
       "0        06/06/2022  Mark Hartman Jr.  Sons and Miller              Cigna   \n",
       "1        19/11/2021  Angela Contreras      White-White              Cigna   \n",
       "2        05/03/2022        David Ruiz  Group Middleton           Medicare   \n",
       "3        06/04/2020    Jenny Griffith  Morris-Arellano         Blue Cross   \n",
       "4        31/12/2022     Cynthia Scott   Williams-Davis         Blue Cross   \n",
       "\n",
       "   Billing Amount  Room Number Admission Type Discharge Date   Medication  \\\n",
       "0     2625.980554          379       Elective     18/08/2022    Ibuprofen   \n",
       "1     1471.387317          113       Elective     20/11/2021    Ibuprofen   \n",
       "2     5131.488104          154      Emergency     16/05/2022  Paracetamol   \n",
       "3     8972.793157          293         Urgent     26/04/2020    Ibuprofen   \n",
       "4     2015.522684          265      Emergency     11/02/2023   Penicillin   \n",
       "\n",
       "   Test Results  \n",
       "0        Normal  \n",
       "1  Inconclusive  \n",
       "2        Normal  \n",
       "3      Abnormal  \n",
       "4      Abnormal  "
      ]
     },
     "execution_count": 3,
     "metadata": {},
     "output_type": "execute_result"
    }
   ],
   "source": [
    "\n",
    "project_root = r'C:\\Users\\HP\\Desktop\\Healthcare_test_results_classification-'  # Replace with the actual path\n",
    "data_path = os.path.join(project_root, 'data', 'raw')\n",
    "\n",
    "train_df, test_df = loader.load_data(\n",
    "    train_path=os.path.join(data_path, 'train data.csv'),\n",
    "    test_path=os.path.join(data_path, 'test data.csv')\n",
    ")\n",
    "\n",
    "train_df.head()\n"
   ]
  },
  {
   "cell_type": "markdown",
   "id": "65df32b0",
   "metadata": {},
   "source": [
    "<h2>Handling DateTime Datatype</h2>"
   ]
  },
  {
   "cell_type": "code",
   "execution_count": 4,
   "id": "e29c23d8",
   "metadata": {},
   "outputs": [],
   "source": [
    "\n",
    "class DateFeatureHandler(BaseEstimator, TransformerMixin):\n",
    "    def fit(self, X, y=None): return self\n",
    "    def transform(self, X): return preprocessor.handle_date_features(X)"
   ]
  },
  {
   "cell_type": "code",
   "execution_count": 5,
   "id": "b51d32f5",
   "metadata": {},
   "outputs": [],
   "source": [
    "\n",
    "# fixed_datatypes=preprocessor.handle_date_features(train_df)\n",
    "# preprocessor.save_processed_df(fixed_datatypes,\"processed_train_data.csv\",output_dir=\"data/processed\")\n",
    "# fixed_datatypes.head()\n"
   ]
  },
  {
   "cell_type": "markdown",
   "id": "f630b2f6",
   "metadata": {},
   "source": [
    "<h2>Handling Missing Values</h2>"
   ]
  },
  {
   "cell_type": "code",
   "execution_count": 6,
   "id": "52dd7c88",
   "metadata": {},
   "outputs": [],
   "source": [
    "\n",
    "class MissingValueImputer(BaseEstimator, TransformerMixin):\n",
    "    def fit(self, X, y=None): return self\n",
    "    def transform(self, X): return preprocessor.handle_missing_values(X)"
   ]
  },
  {
   "cell_type": "code",
   "execution_count": 7,
   "id": "df14a903",
   "metadata": {},
   "outputs": [],
   "source": [
    "# handled_missing=preprocessor.handle_missing_values(fixed_datatypes)\n",
    "# preprocessor.save_processed_df(handled_missing,\"processed_train_data.csv\",output_dir=\"data/processed\")\n"
   ]
  },
  {
   "cell_type": "markdown",
   "id": "352cd394",
   "metadata": {},
   "source": [
    "<h2>Encoding</h2>"
   ]
  },
  {
   "cell_type": "code",
   "execution_count": 8,
   "id": "5b3619bb",
   "metadata": {},
   "outputs": [],
   "source": [
    "class FeatureEncoder(BaseEstimator, TransformerMixin):\n",
    "    def fit(self, X, y=None): return self\n",
    "    def transform(self, X): return preprocessor.encoding_features(X)"
   ]
  },
  {
   "cell_type": "code",
   "execution_count": 9,
   "id": "7298dbdc",
   "metadata": {},
   "outputs": [],
   "source": [
    "\n",
    "# # encoded_df = preprocessor.encode_students_dataset(train_df)\n",
    "# # print(\"Encoded shape:\", encoded_df.shape)\n",
    "# encoded_df=preprocessor.encoding_features(handled_missing)\n",
    "\n",
    "# preprocessor.save_processed_df(encoded_df,\"processed_train_data.csv\",output_dir=\"data/processed\")\n",
    "# encoded_df.head()"
   ]
  },
  {
   "cell_type": "markdown",
   "id": "b5f73f2e",
   "metadata": {},
   "source": [
    "<h2>Scaling (Standrization)</h2>"
   ]
  },
  {
   "cell_type": "markdown",
   "id": "1d02ad17",
   "metadata": {},
   "source": [
    "\n",
    "PCA, Logistic Regression, SVM, MLP → Use StandardScaler"
   ]
  },
  {
   "cell_type": "code",
   "execution_count": 10,
   "id": "fe0143d6",
   "metadata": {},
   "outputs": [],
   "source": [
    "\n",
    "class FeatureScaler(BaseEstimator, TransformerMixin):\n",
    "    def fit(self, X, y=None): return self\n",
    "    def transform(self, X): return preprocessor.scale_numerical_features(X)\n"
   ]
  },
  {
   "cell_type": "code",
   "execution_count": 11,
   "id": "30587a44",
   "metadata": {},
   "outputs": [],
   "source": [
    "# scaled_df=preprocessor.scale_numerical_features(encoded_df)\n",
    "\n",
    "# preprocessor.save_processed_df(scaled_df,\"processed_train_data.csv\",output_dir=\"data/processed\")\n",
    "# scaled_df.head()"
   ]
  },
  {
   "cell_type": "markdown",
   "id": "874456a9",
   "metadata": {},
   "source": [
    "<h2>Creating & Running The Pipeline</h2>"
   ]
  },
  {
   "cell_type": "code",
   "execution_count": 12,
   "id": "9fa1dd45",
   "metadata": {},
   "outputs": [
    {
     "name": "stdout",
     "output_type": "stream",
     "text": [
      "✅Missing values handled:\n",
      "Filled categorical column 'Blood Type' with mode: B-\n",
      "Filled categorical column 'Doctor' with mode: Angela Contreras\n",
      "Filled categorical column 'Hospital' with mode: Houston PLC\n",
      "Filled categorical column 'Insurance Provider' with mode: Blue Cross\n",
      "Filled numerical column 'Billing Amount' with median: 5313.5078885\n",
      "Filled categorical column 'Admission Type' with mode: Urgent\n",
      "\n",
      "📅 Detected and converted date columns: ['Date of Admission', 'Discharge Date']\n",
      "✅ Label encoded 'Gender'.\n",
      "🎯 Label encoded target column 'Test Results'.\n",
      "✅ One-hot encoded 'Blood Type'.\n",
      "✅ One-hot encoded 'Medical Condition'.\n",
      "✅ One-hot encoded 'Insurance Provider'.\n",
      "✅ One-hot encoded 'Admission Type'.\n",
      "✅ One-hot encoded 'Medication'.\n",
      "✅ Frequency encoded 'Doctor'.\n",
      "✅ Frequency encoded 'Hospital'.\n",
      "\n",
      "📐 Encoded shape: (50000, 30)\n",
      "✅ Scaled numerical columns: ['Age', 'Billing Amount']\n",
      "\n",
      "📐 Scaled shape: (50000, 30)\n",
      "✅ Saved processed DataFrame to:\n",
      "c:\\Users\\HP\\Desktop\\Healthcare_test_results_classification-\\data\\processed\\preprocessed_train_data.csv\n"
     ]
    }
   ],
   "source": [
    "preprocessing_pipeline = Pipeline([\n",
    "    ('imputer', MissingValueImputer()),\n",
    "    ('date_handler', DateFeatureHandler()),\n",
    "    ('encoder', FeatureEncoder()),\n",
    "    ('scaler', FeatureScaler())\n",
    "])\n",
    "\n",
    "# df = pd.read_csv(\"data/raw/train data.csv\")\n",
    "processed_df = preprocessing_pipeline.fit_transform(train_df)\n",
    "\n",
    "# Optional: Save result\n",
    "preprocessor.save_processed_df(processed_df, filename=\"preprocessed_train_data.csv\")\n"
   ]
  },
  {
   "cell_type": "code",
   "execution_count": null,
   "id": "57aab809",
   "metadata": {},
   "outputs": [],
   "source": []
  },
  {
   "cell_type": "code",
   "execution_count": null,
   "id": "5f02f5e6",
   "metadata": {},
   "outputs": [],
   "source": []
  },
  {
   "cell_type": "code",
   "execution_count": null,
   "id": "59f004da",
   "metadata": {},
   "outputs": [],
   "source": []
  },
  {
   "cell_type": "code",
   "execution_count": null,
   "id": "7f09034d",
   "metadata": {},
   "outputs": [],
   "source": [
    "\n"
   ]
  },
  {
   "cell_type": "code",
   "execution_count": null,
   "id": "f7e6c6d3",
   "metadata": {},
   "outputs": [],
   "source": []
  },
  {
   "cell_type": "code",
   "execution_count": null,
   "id": "ec0604e5",
   "metadata": {},
   "outputs": [],
   "source": []
  },
  {
   "cell_type": "code",
   "execution_count": null,
   "id": "14edf573",
   "metadata": {},
   "outputs": [],
   "source": []
  },
  {
   "cell_type": "code",
   "execution_count": null,
   "id": "54af7a96",
   "metadata": {},
   "outputs": [],
   "source": []
  },
  {
   "cell_type": "code",
   "execution_count": null,
   "id": "842cbe35",
   "metadata": {},
   "outputs": [],
   "source": []
  },
  {
   "cell_type": "code",
   "execution_count": null,
   "id": "027c0066",
   "metadata": {},
   "outputs": [],
   "source": []
  }
 ],
 "metadata": {
  "kernelspec": {
   "display_name": "Python 3",
   "language": "python",
   "name": "python3"
  },
  "language_info": {
   "codemirror_mode": {
    "name": "ipython",
    "version": 3
   },
   "file_extension": ".py",
   "mimetype": "text/x-python",
   "name": "python",
   "nbconvert_exporter": "python",
   "pygments_lexer": "ipython3",
   "version": "3.11.9"
  }
 },
 "nbformat": 4,
 "nbformat_minor": 5
}
