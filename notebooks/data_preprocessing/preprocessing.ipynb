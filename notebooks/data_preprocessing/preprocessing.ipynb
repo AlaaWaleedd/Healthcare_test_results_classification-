{
 "cells": [
  {
   "cell_type": "markdown",
   "id": "698e82cc",
   "metadata": {},
   "source": [
    "<h2 style=\"text-align:center;\">Data Preprocessing</h2>"
   ]
  },
  {
   "cell_type": "markdown",
   "id": "ec831925",
   "metadata": {},
   "source": [
    "<h2>🔃Loading Dataset</h2>"
   ]
  },
  {
   "cell_type": "code",
   "execution_count": 2,
   "id": "0beff5e1",
   "metadata": {},
   "outputs": [
    {
     "name": "stdout",
     "output_type": "stream",
     "text": [
      "Setting project root: c:\\Users\\HP\\Desktop\\Healthcare_test_results_classification-\n"
     ]
    }
   ],
   "source": [
    "import os\n",
    "import sys\n",
    "\n",
    "# Detect project root by going up until we find the 'src' directory\n",
    "current_dir = os.getcwd()\n",
    "while not os.path.isdir(os.path.join(current_dir, 'src')):\n",
    "    current_dir = os.path.dirname(current_dir)\n",
    "    if current_dir == os.path.dirname(current_dir):  # Reached filesystem root\n",
    "        raise FileNotFoundError(\"Could not find 'src' directory in any parent folders.\")\n",
    "\n",
    "# Set project root and add it to sys.path\n",
    "PROJECT_ROOT = current_dir\n",
    "print(f\"Setting project root: {PROJECT_ROOT}\")\n",
    "os.chdir(PROJECT_ROOT)\n",
    "sys.path.insert(0, PROJECT_ROOT)\n",
    "\n",
    "\n",
    "from src.data import loader, preprocessor\n",
    "from src.visualization import exploration_visualized\n"
   ]
  },
  {
   "cell_type": "code",
   "execution_count": 3,
   "id": "cd31d10b",
   "metadata": {},
   "outputs": [
    {
     "data": {
      "text/html": [
       "<div>\n",
       "<style scoped>\n",
       "    .dataframe tbody tr th:only-of-type {\n",
       "        vertical-align: middle;\n",
       "    }\n",
       "\n",
       "    .dataframe tbody tr th {\n",
       "        vertical-align: top;\n",
       "    }\n",
       "\n",
       "    .dataframe thead th {\n",
       "        text-align: right;\n",
       "    }\n",
       "</style>\n",
       "<table border=\"1\" class=\"dataframe\">\n",
       "  <thead>\n",
       "    <tr style=\"text-align: right;\">\n",
       "      <th></th>\n",
       "      <th>ID</th>\n",
       "      <th>Name</th>\n",
       "      <th>Age</th>\n",
       "      <th>Gender</th>\n",
       "      <th>Blood Type</th>\n",
       "      <th>Medical Condition</th>\n",
       "      <th>Date of Admission</th>\n",
       "      <th>Doctor</th>\n",
       "      <th>Hospital</th>\n",
       "      <th>Insurance Provider</th>\n",
       "      <th>Billing Amount</th>\n",
       "      <th>Room Number</th>\n",
       "      <th>Admission Type</th>\n",
       "      <th>Discharge Date</th>\n",
       "      <th>Medication</th>\n",
       "      <th>Test Results</th>\n",
       "    </tr>\n",
       "  </thead>\n",
       "  <tbody>\n",
       "    <tr>\n",
       "      <th>0</th>\n",
       "      <td>1</td>\n",
       "      <td>Bobby JacksOn</td>\n",
       "      <td>30</td>\n",
       "      <td>Male</td>\n",
       "      <td>B-</td>\n",
       "      <td>Cancer</td>\n",
       "      <td>1/31/2024</td>\n",
       "      <td>Matthew Smith</td>\n",
       "      <td>Sons and Miller</td>\n",
       "      <td>Blue Cross</td>\n",
       "      <td>18856.28131</td>\n",
       "      <td>328</td>\n",
       "      <td>Urgent</td>\n",
       "      <td>2/2/2024</td>\n",
       "      <td>Paracetamol</td>\n",
       "      <td>Normal</td>\n",
       "    </tr>\n",
       "    <tr>\n",
       "      <th>1</th>\n",
       "      <td>2</td>\n",
       "      <td>LesLie TErRy</td>\n",
       "      <td>62</td>\n",
       "      <td>Male</td>\n",
       "      <td>A+</td>\n",
       "      <td>Obesity</td>\n",
       "      <td>8/20/2019</td>\n",
       "      <td>Samantha Davies</td>\n",
       "      <td>Kim Inc</td>\n",
       "      <td>Medicare</td>\n",
       "      <td>33643.32729</td>\n",
       "      <td>265</td>\n",
       "      <td>Emergency</td>\n",
       "      <td>8/26/2019</td>\n",
       "      <td>Ibuprofen</td>\n",
       "      <td>Inconclusive</td>\n",
       "    </tr>\n",
       "    <tr>\n",
       "      <th>2</th>\n",
       "      <td>3</td>\n",
       "      <td>DaNnY sMitH</td>\n",
       "      <td>76</td>\n",
       "      <td>Female</td>\n",
       "      <td>A-</td>\n",
       "      <td>Obesity</td>\n",
       "      <td>9/22/2022</td>\n",
       "      <td>Tiffany Mitchell</td>\n",
       "      <td>Cook PLC</td>\n",
       "      <td>Aetna</td>\n",
       "      <td>27955.09608</td>\n",
       "      <td>205</td>\n",
       "      <td>Emergency</td>\n",
       "      <td>10/7/2022</td>\n",
       "      <td>Aspirin</td>\n",
       "      <td>Normal</td>\n",
       "    </tr>\n",
       "    <tr>\n",
       "      <th>3</th>\n",
       "      <td>4</td>\n",
       "      <td>andrEw waTtS</td>\n",
       "      <td>28</td>\n",
       "      <td>Female</td>\n",
       "      <td>O+</td>\n",
       "      <td>Diabetes</td>\n",
       "      <td>11/18/2020</td>\n",
       "      <td>Kevin Wells</td>\n",
       "      <td>Hernandez Rogers and Vang,</td>\n",
       "      <td>Medicare</td>\n",
       "      <td>37909.78241</td>\n",
       "      <td>450</td>\n",
       "      <td>Elective</td>\n",
       "      <td>12/18/2020</td>\n",
       "      <td>Ibuprofen</td>\n",
       "      <td>Abnormal</td>\n",
       "    </tr>\n",
       "    <tr>\n",
       "      <th>4</th>\n",
       "      <td>5</td>\n",
       "      <td>adrIENNE bEll</td>\n",
       "      <td>43</td>\n",
       "      <td>Female</td>\n",
       "      <td>AB+</td>\n",
       "      <td>Cancer</td>\n",
       "      <td>9/19/2022</td>\n",
       "      <td>Kathleen Hanna</td>\n",
       "      <td>White-White</td>\n",
       "      <td>Aetna</td>\n",
       "      <td>14238.31781</td>\n",
       "      <td>458</td>\n",
       "      <td>Urgent</td>\n",
       "      <td>10/9/2022</td>\n",
       "      <td>Penicillin</td>\n",
       "      <td>Abnormal</td>\n",
       "    </tr>\n",
       "  </tbody>\n",
       "</table>\n",
       "</div>"
      ],
      "text/plain": [
       "   ID           Name  Age  Gender Blood Type Medical Condition  \\\n",
       "0   1  Bobby JacksOn   30    Male         B-            Cancer   \n",
       "1   2   LesLie TErRy   62    Male         A+           Obesity   \n",
       "2   3    DaNnY sMitH   76  Female         A-           Obesity   \n",
       "3   4   andrEw waTtS   28  Female         O+          Diabetes   \n",
       "4   5  adrIENNE bEll   43  Female        AB+            Cancer   \n",
       "\n",
       "  Date of Admission            Doctor                    Hospital  \\\n",
       "0         1/31/2024     Matthew Smith             Sons and Miller   \n",
       "1         8/20/2019   Samantha Davies                     Kim Inc   \n",
       "2         9/22/2022  Tiffany Mitchell                    Cook PLC   \n",
       "3        11/18/2020       Kevin Wells  Hernandez Rogers and Vang,   \n",
       "4         9/19/2022    Kathleen Hanna                 White-White   \n",
       "\n",
       "  Insurance Provider  Billing Amount  Room Number Admission Type  \\\n",
       "0         Blue Cross     18856.28131          328         Urgent   \n",
       "1           Medicare     33643.32729          265      Emergency   \n",
       "2              Aetna     27955.09608          205      Emergency   \n",
       "3           Medicare     37909.78241          450       Elective   \n",
       "4              Aetna     14238.31781          458         Urgent   \n",
       "\n",
       "  Discharge Date   Medication  Test Results  \n",
       "0       2/2/2024  Paracetamol        Normal  \n",
       "1      8/26/2019    Ibuprofen  Inconclusive  \n",
       "2      10/7/2022      Aspirin        Normal  \n",
       "3     12/18/2020    Ibuprofen      Abnormal  \n",
       "4      10/9/2022   Penicillin      Abnormal  "
      ]
     },
     "execution_count": 3,
     "metadata": {},
     "output_type": "execute_result"
    }
   ],
   "source": [
    "  # Make sure loader.py is in your project directory\n",
    "\n",
    "project_root = r'C:\\Users\\HP\\Desktop\\Healthcare_test_results_classification-'  # Replace with the actual path\n",
    "data_path = os.path.join(project_root, 'data', 'raw')\n",
    "\n",
    "train_df, test_df = loader.load_data(\n",
    "    train_path=os.path.join(data_path, 'students_train.csv'),\n",
    "    test_path=os.path.join(data_path, 'students_test.csv')\n",
    ")\n",
    "\n",
    "train_df.head()\n"
   ]
  },
  {
   "cell_type": "markdown",
   "id": "f589088f",
   "metadata": {},
   "source": [
    "<h2>Handling Irrelevant Columns</h2>"
   ]
  },
  {
   "cell_type": "code",
   "execution_count": 4,
   "id": "c66567bb",
   "metadata": {},
   "outputs": [
    {
     "name": "stdout",
     "output_type": "stream",
     "text": [
      "Remaining columns: ['Age', 'Gender', 'Blood Type', 'Medical Condition', 'Insurance Provider', 'Admission Type', 'Medication', 'Test Results']\n"
     ]
    }
   ],
   "source": [
    "processed_df=preprocessor.drop_irrelevant_columns(train_df)\n",
    "# processed_df.to_csv(r\"C:\\Users\\HP\\Desktop\\Healthcare_test_results_classification-\\data\\processd\\preprocessed_train_data.csv\", index=False)\n",
    "\n"
   ]
  },
  {
   "cell_type": "code",
   "execution_count": 5,
   "id": "b5f73f2e",
   "metadata": {},
   "outputs": [
    {
     "name": "stdout",
     "output_type": "stream",
     "text": [
      "❌ No missing values found.\n"
     ]
    }
   ],
   "source": [
    "processed_df=preprocessor.handle_missing_values(processed_df)"
   ]
  },
  {
   "cell_type": "code",
   "execution_count": null,
   "id": "30587a44",
   "metadata": {},
   "outputs": [],
   "source": []
  }
 ],
 "metadata": {
  "kernelspec": {
   "display_name": "Python 3",
   "language": "python",
   "name": "python3"
  },
  "language_info": {
   "codemirror_mode": {
    "name": "ipython",
    "version": 3
   },
   "file_extension": ".py",
   "mimetype": "text/x-python",
   "name": "python",
   "nbconvert_exporter": "python",
   "pygments_lexer": "ipython3",
   "version": "3.11.9"
  }
 },
 "nbformat": 4,
 "nbformat_minor": 5
}
